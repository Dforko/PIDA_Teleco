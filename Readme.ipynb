{
 "cells": [
  {
   "attachments": {},
   "cell_type": "markdown",
   "id": "fa103bd1",
   "metadata": {},
   "source": [
    "### PIDA:PROYECTO INDIVIDUAL Nº2\n"
   ]
  },
  {
   "attachments": {},
   "cell_type": "markdown",
   "id": "cdcdcc43",
   "metadata": {
    "papermill": {
     "duration": 0.016879,
     "end_time": "2023-06-02T07:44:23.643722",
     "exception": false,
     "start_time": "2023-06-02T07:44:23.626843",
     "status": "completed"
    },
    "tags": []
   },
   "source": [
    "<div style=\"padding: 35px;color:white;margin:10;font-size:200%;text-align:center;display:fill;border-radius:10px;overflow:hidden;background-image: url(https://w0.peakpx.com/wallpaper/957/661/HD-wallpaper-white-marble-white-stone-texture-marble-stone-background-white-stone.jpg)\"><b><span style='color:black'>Panorama de la conectividad a Internet en Argentina </span></b> </div>\n",
    "\n",
    "<br>\n",
    "\n",
    "Este análisis se centra en **visualizar la distribución geográfica** de varias métricas de acceso a Internet, como cantidad y alcance delos proveedores del servicio, cantidad de hogares  conectados a Internet, las suscripciones wireless y las suscripciones de banda ancha fija, etc. Las métricas se estudian a nivel regional en las siguientes provincias con sus localidades: ` Jujuy` (NOA), `Misiones` (NEA) , `Cordoba` (Centro), `Santiago del Estero` (Centro), `San Juan` (Cuyo), `CABA` (Capital Nacional), `Neuquen` (Patagonia Norte) y `Santa Cruz` (Patagonia Sur).\n",
    "\n",
    "El objetivo es crear una serie de **mapas geográficos** en los que las áreas están sombreadas o modeladas en relación con la variable de datos que se muestra en el mapa, en este caso, los datos penetración hogareña de Internet.\n",
    "\n",
    "Además de arrojar luz sobre el panorama del uso de Internet, este análisis puede servir como una valiosa herramienta para que los responsables políticos, los investigadores y las empresas comprendan los patrones regionales de uso de Internet e impulsen los procesos de toma de decisiones.\n",
    "\n",
    "<br>\n",
    "\n",
    "![](https://images.pexels.com/photos/67112/pexels-photo-67112.jpeg?auto=compress&cs=tinysrgb&w=1260&h=750&dpr=1)\n",
    "\n",
    "<br>\n",
    "\n",
    "### <b><span style='color:#526D82'>|</span> Metadatos y Dominio</b>\n",
    "\n",
    "<br>\n",
    "\n",
    "1. **`Provincias y localidades `** Las provincias y localidades son divisiones geográficas y político-administrativas de Argentina.\n",
    "\n",
    "`Provincias:`\n",
    "\n",
    "Son divisiones territoriales supra-municipales que agrupan varios municipios o localidades.\n",
    "Cada provincia tiene su propio gobierno, leyes y autoridades.\n",
    "Suelen tener cierta autonomía respecto al gobierno central de un país.\n",
    "En Argentina hay 23 provincias y una ciudad autónoma (CABA).\n",
    "\n",
    "`Localidades:`\n",
    "\n",
    "Son divisiones territoriales más pequeñas dentro de una provincia.\n",
    "Pueden ser ciudades, pueblos, parajes rurales.\n",
    "Cada localidad tiene su propia administración y gobierno local.\n",
    "Las agrupaciones de localidades forman los municipios o partidos.\n",
    "Según INDEC en Argentina hay 2.266 localidades urbanas, pero para nuestro análisis conseguimos datos de más de 4000 localidades, con lo que concluimos que hemos incluido también localidades no urbanas.\n",
    "\n",
    "2. **`Operador de telecomunicaciones`** Un operador de telecomunicaciones es una empresa que brinda servicios de telefonía, internet y otros servicios de comunicación utilizando infraestructura de telecomunicaciones. Sus características son:\n",
    "Cuentan con licencias y permisos del Estado para operar redes de telecomunicaciones en una región o país.\n",
    "Despliegan la infraestructura necesaria como cables de fibra óptica, antenas, centrales telefónicas, etc.\n",
    "Proveen servicios minoristas de telefonía fija y móvil, internet de banda ancha, televisión paga, entre otros.\n",
    "También pueden ofrecer servicios mayoristas a otras empresas de telecomunicaciones.\n",
    "Muchos operan redes de alcance nacional y tienen millones de clientes, mientras que otras pueden ser simples cooperativas locales que ofrecen servicios a poblaciones muy reducidas.\n",
    "Están sujetos a regulaciones gubernamentales sobre tarifas, competencia, calidad de servicio, etc.\n",
    "\n",
    "3. **`Año`**: El análisis se realiza para el año 2022 con el fin de reflejar las tendencias más recientes.\n",
    "\n",
    "4. **`Velocidad de bajada (conexión)`** - Esta metrica se refiere a la rapide, medida en Mbps, a la cual se pueden descargar datos desde internet a un dispositivo. Es una métrica importante para medir el rendimiento de una conexión de internet.\n",
    "Los valores en las columnas de velocidad (Mbps) corresponden a cantidad de hogares con esa velocidad de bajada.\n",
    "\n",
    "`Algunos puntos clave sobre esta métrica:`\n",
    "\n",
    "Se mide en Megabits por segundo (Mbps). Entre más alta la velocidad, más rápido es la descarga.\n",
    "Depende de la capacidad tanto del proveedor de internet como del hardware del usuario.\n",
    "Varía según la tecnología de conexión (cable, ADSL, fibra óptica, móvil). Fibra óptica ofrece las velocidades más altas.\n",
    "Influye en experiencia del usuario al descargar sitios web, video, música, etc. Velocidades bajas causan retrasos.\n",
    "Los operadores  en la actualidad ofrecen rangos desde 50 Mbps a 300 Mbps en sus planes de internet.\n",
    "Para streaming HD se recomienda mínimo 25 Mbps de bajada. Gaming requiere al menos 15 Mbps.\n",
    "Tener velocidades de bajada altas y consistentes es esencial para buena calidad en servicios digitales.\n",
    "\n",
    "5. **`Acceso a la banda ancha`** - Este valor binario refleja la presencia o auencia de cada tipo de  conexion a Internet  en cada localidad. Las conexiones fijas de banda ancha, normalmente a través de DSL, fibra o cable, suelen ofrecer un servicio más rápido y fiable que las conexiones por aire a Internet. Esta métrica es un indicador crucial de la infraestructura disponible para servicios como el streaming de vídeo de alta calidad, los juegos en línea y otras aplicaciones de uso intensivo de datos.\n",
    "\n",
    "<br>\n",
    "\n",
    "✔️ **Entendiendo en detalle estos  datos, podemos extraer valiosas perspectivas sobre la conectividad digital global, el acceso a los servicios digitales, la evolución de la tecnología digital y el potencial de crecimiento digital en diferentes partes del pais.**\n",
    "\n",
    "\n"
   ]
  },
  {
   "attachments": {},
   "cell_type": "markdown",
   "id": "72b59476",
   "metadata": {},
   "source": [
    "# <span style=\"color:#E888BB; font-size: 1%;\"> ANÁLISIS</span>\n",
    "<div style=\"padding: 30px;color:white;margin:10;font-size:170%;text-align:left;display:fill;border-radius:10px;overflow:hidden;background-image: url(https://images.pexels.com/photos/532173/pexels-photo-532173.jpeg?auto=compress&cs=tinysrgb&w=1260&h=750&dpr=1)\"><b><span style='color:white'> ANÁLISIS </span></b> </div>\n",
    "\n",
    "\n",
    "\n",
    " En este análisis, nos adentramos en el interesantisimo mundo del **<span style='color:#526D82'>Acceso a Internet en distintas latitudes (provincias) del pais, elegidas ademas segun sus ingresos per capita provincial </span>**. Nos centramos principalmente en analizar la tecnología disponible, la velocidad de bajada y la cobertura de distintos proveedores de internet en las distintas Provincias.\n",
    "\n",
    "Nuestro conjunto de datos, obtenido la pagina del Enacom, contiene una gran cantidad de información que abarca distintas regiones, proporcionando una vista de pájaro del acceso  Internet en diferentes partes del pais. Sin embargo, para apreciar realmente la granularidad y complejidad de estos datos, es imprescindible diseccionarlos en subconjuntos más específicos.\n",
    "\n",
    "1. **Datos regionales**: El primer nivel de nuestro análisis ramifica los datos según la columna \"Región\", separando las regiones individuales de los datos colectivos. Esta segmentación proporciona una comprensión matizada de las diferencias regionales y los contrastes de desarrollo, y nos permite centrarnos en el panorama digital dentro de estos límites geográficos específicos. Al diseccionar los datos de esta manera, podemos desarrollar perspectivas específicas para cada región e identificar tendencias y patrones únicos.\n",
    "\n",
    "\n",
    "2. **Datos del grupo de renta**: La segunda dimensión que exploramos es el grupo de renta. Esta categorización segrega a las provincias en varias categorias de renta, como provincias de renta baja, renta media-baja, renta media-alta y renta alta. Nos hubiera gustado realizar un análisis más detallado, examinando los datos según el ingreso promedio por localidad y no solo por provincia, ya que este último está muy promediado. Sin embargo, lamentablemente no se cuenta con información a nivel de localidades que nos permita hacer este tipo de segmentación más granular. En la siguiente tabla se detallan las provincias que fueron seleccionadas según su renta y su distribución geográfica.\n",
    "\n",
    "      |Renta baja|Renta media-baja|Renta media-alta|Renta alta| \n",
    "      |-|-|-|-|\n",
    "      |Jujuy|San Juan|Santa Cruz|Córdoba |  \n",
    "      |Misiones|Santiago Del estero|Neuquén|Caba|\n",
    "      \n",
    "      Analizar los datos a través del prisma de los grupos de renta nos permite evaluar si existe correlación entre la riqueza de la provincia y su acceso y uso de los servicios de Internet. Esta segmentación puede revelar notables disparidades en el uso de Internet, la accesibilidad y el desarrollo tecnológico en función del grupo de renta.\n",
    "\n",
    "3. **Datos Poblacionales**: Por último, usamos los datos de la población de cada localidad . Esta instantánea nos permite calcular la penetración de Internet en función de la población de una provincia o localidad, lo  que permite ver qué tan extendido está el acceso per capita y comparar la población total de una provincias con la cantidad de suscripciones a Internet. Las provincias con mayor población deberían tener más suscripciones en términos absolutos.\n",
    "<br>\n",
    "\n",
    "<div style=\"border-radius:10px;border:#526D82 solid;padding: 15px;background-color:#ffffff00;font-size:100%;text-align:left\">\n",
    "   📝A través de este examen multifacético, nuestro análisis promete una comprensión integral y profunda del acceso a internet de calidad a lo largo y ancho del pais, segun la geografía y la segmentacion de ingresos. Esta introducción sirve como hoja de ruta para el viaje que sigue, donde los datos tejen historias de igualdad digital, revelando ideas tan profundas como impactantes.\n",
    "   </div>\n",
    "\n",
    "<br>\n",
    "\n"
   ]
  },
  {
   "attachments": {},
   "cell_type": "markdown",
   "id": "c3c7ae49",
   "metadata": {},
   "source": [
    "Como se menciono al inicio se usaron los dataset de la pagina de Enacom. Se realizó una exploracion preliminar para seleccionar los datos relevantes y poder determinar KPis  que permitan llegar a conlusiones e insigths. El análisis se realizó para el año 2022, último año disponible, con el fin de reflejar la situación más reciente.\n",
    "\n",
    "\n",
    "Los datasets se exploraron, analizaron y visualizaron mediante graficas realizadas con las librerias matplotlib, plotly  y seaborn. De este analisis ([ver EDA](Eda.ipynb)) se obtuvieron 3 Kpis que considero interesantes:\n",
    "\n",
    "**KPI 1: Cobertura del Servicio de Internet en el territorio nacional**\n",
    "\n",
    "Se comenzó con una visión amplia, analizando la penetración nacional de Internet en los hogares por tipo de conexión. Lo visualizamos con  un gráfico circular, que muestra el porcentaje de hogares con Internet por tipo de conexión. Luego se profundizo el análisis comparando el acceso tanto de banda ancha y banda estrecha por provincias de interes, seleccionadas por su nivel de renta y su distribución geográfica en el territorio nacional.\n",
    "\n",
    "\n",
    "**KPI 2: Acceso a internet segun la renta provincial**\n",
    "\n",
    "Se eligió este Kpi para responder a la pregunta si la renta per cápita provincial afecta el acceso de sus habitantes a internet de calidad.Es muy importante conocer si la economía es un impedimento para que la sociedad de un país acceda a los beneficios que ofrece internet.\n",
    "\n",
    "**KPI 3: Cantidad y distribución de Operadores de telecomunicaciones por provincia**: \n",
    "\n",
    "Como resultado del análisis del acceso a y la calidad de internet de los habitantes de Argentina decidimos con el último Kpi evaluar la oferta y cobertura de los distintos operadores.que ofrecen servicios de telecomunicaciones en el territorio nacional.\n",
    "Conocer la situación actual de los operadores nos permitirá aconsejar a futuros operadores que eventualmente quieran ofrecer sus servicios.\n",
    "\n",
    "\n",
    "\n"
   ]
  },
  {
   "attachments": {},
   "cell_type": "markdown",
   "id": "09458212",
   "metadata": {},
   "source": [
    "# <span style=\"color:#E888BB; font-size: 1%;\"> CONCLUSIONES</span>\n",
    "<div style=\"padding: 30px;color:white;margin:10;font-size:170%;text-align:left;display:fill;border-radius:10px;overflow:hidden;background-image: url(https://images.pexels.com/photos/532173/pexels-photo-532173.jpeg?auto=compress&cs=tinysrgb&w=1260&h=750&dpr=1)\"><b><span style='color:white'> CONCLUSIONES </span></b> </div>"
   ]
  },
  {
   "attachments": {},
   "cell_type": "markdown",
   "id": "1c76c733",
   "metadata": {},
   "source": [
    "\n",
    "\n",
    "Los distintos Kpis analizados nos permiten concluir que la cobertura del servicio de internet  está extendida en la totalidad del territorio nacional, aunque concentrándose la oferta de distintos operadores en los centros urbanos más poblados. La realidad socioeconómica de las provincias no afecta, o lo hace mínimamente, la llegada de tecnologías más modernas y con mejores velocidades de bajada. La banda estrecha, si bien todavía permanece distribuida en todo el territorio nacional lo hace con un porcentaje minoritario dándole paso a tecnologías más veloces tanto en provincias de renta baja, como en las de rentas alta. Notablemente en el distrito más poblado y de mejores recursos económicos las velocidades más bajas tienen todavía mucha prevalencia, lo que demuestra que la Argentina está en un proceso reciente de transición de tecnologías antiguas a tecnologías más nuevas que dicho proceso no es acelerado por una mayor renta per cápita o mayor población..\n",
    "\n",
    "\n"
   ]
  },
  {
   "attachments": {},
   "cell_type": "markdown",
   "id": "1b08e5df",
   "metadata": {},
   "source": [
    "\n",
    "## **Fuentes**\n",
    "\n",
    "</div>\n",
    "\n",
    "\n",
    "- [Documentacion Pandas](https://pandas.pydata.org/docs/)\n",
    "- [Documentacion Matplotlib](https://matplotlib.org/stable/index.html)\n",
    "- [Documentacion Plotly](https://plotly.com/python/)\n",
    "- [Enacom](https://datosabiertos.enacom.gob.ar/home)\n",
    "<br>"
   ]
  },
  {
   "attachments": {},
   "cell_type": "markdown",
   "id": "3eecd40a",
   "metadata": {},
   "source": [
    "## **Contacto**"
   ]
  }
 ],
 "metadata": {
  "kernelspec": {
   "display_name": "Python 3",
   "language": "python",
   "name": "python3"
  },
  "language_info": {
   "codemirror_mode": {
    "name": "ipython",
    "version": 3
   },
   "file_extension": ".py",
   "mimetype": "text/x-python",
   "name": "python",
   "nbconvert_exporter": "python",
   "pygments_lexer": "ipython3",
   "version": "3.10.6"
  },
  "papermill": {
   "default_parameters": {},
   "duration": 31.876518,
   "end_time": "2023-06-02T07:44:42.186253",
   "environment_variables": {},
   "exception": null,
   "input_path": "__notebook__.ipynb",
   "output_path": "__notebook__.ipynb",
   "parameters": {},
   "start_time": "2023-06-02T07:44:10.309735",
   "version": "2.4.0"
  }
 },
 "nbformat": 4,
 "nbformat_minor": 5
}
